{
 "cells": [
  {
   "cell_type": "markdown",
   "metadata": {},
   "source": [
    "# Gerando um dataframe filtrando pelo mês de Outubro (início do planejamento e plantio da Soja)\n",
    "- Filtramos apenas dados semanais desde 2006 até 2021 para o mês de Outubro para cada cidade que possui Estação Meteorológica e unimos todos os DF's de todas as cidades em um só;\n",
    "- Ao final deste Notebook, foi gerado também as informações de longitude e latitude e o csv foi exportado para trabalhar com a geoestatística posteriormente;\n",
    "- É possível trocar o mês para gerar o dataset na função `ler_dados_concatenados`\n",
    "---"
   ]
  },
  {
   "cell_type": "code",
   "execution_count": 1,
   "metadata": {},
   "outputs": [],
   "source": [
    "import pandas as pd \n",
    "import numpy as np\n",
    "from utils import *\n",
    "\n",
    "from geopy.geocoders import Nominatim\n",
    "from geopy.extra.rate_limiter import RateLimiter"
   ]
  },
  {
   "cell_type": "code",
   "execution_count": 2,
   "metadata": {},
   "outputs": [],
   "source": [
    "geolocator = Nominatim(user_agent=\"TMGAPP\")\n",
    "geocode = RateLimiter(geolocator.geocode, min_delay_seconds=1)"
   ]
  },
  {
   "cell_type": "code",
   "execution_count": 3,
   "metadata": {},
   "outputs": [],
   "source": [
    "def ler_dados_concatenados(cidade_selecionada, id_em_selecionado):\n",
    "    \"\"\"\n",
    "    Função para realizar a leitura dos dados concatenados. Também é realizado um tratamento para transformar \n",
    "    a coluna de data para seu devido formato. A coluna de horário é removida.\n",
    "    Todos os dados são transformados em tipo float para poder trabalhar com estatísticas posteriormente.\n",
    "    Os NA's foram substituídos pela média das colunas, o que não alterou o resultado final (na média) do dataframe.\n",
    "    \"\"\"\n",
    "    df = pd.read_csv(f'data/dados_hist_clima_concatenados/INMET_S_PR_{id_em_selecionado}_{cidade_selecionada}_01-01-2006_A_30-11-2021.CSV', index_col=False, decimal=',')\n",
    "    df['DATA (YYYY-MM-DD)'] = pd.to_datetime(df['DATA (YYYY-MM-DD)'])\n",
    "    df.set_index('DATA (YYYY-MM-DD)', inplace=True)\n",
    "    df.drop(['HORA (UTC)'], axis=1, inplace=True)\n",
    "\n",
    "    cols = df.iloc[:, :17].columns\n",
    "    for i in cols:\n",
    "        df[i] = df[i].astype(str).str.replace(',','.')\n",
    "\n",
    "    df.iloc[:, :17] = df.iloc[:, :17].astype(float) # Os dados precisam ser do tipo float para poder trabalhar com estatísticas\n",
    "    df.iloc[:, :17] = df[df.iloc[:, :17] > -5] # Pegando apenas medições de números acima de -5 (A temperatura poderia chegar a ser negativa, por isso o limite)\n",
    "    df = df.iloc[:, :17].fillna(df.iloc[:, :17].mean())\n",
    "\n",
    "    # Fazendo média semanal (Weekly)\n",
    "    df = df.resample('W').mean().round(2)\n",
    "    df_precip = df.resample('W').sum()\n",
    "    df['PRECIPITAÇÃO TOTAL, HORÁRIO (mm)'] = df_precip['PRECIPITAÇÃO TOTAL, HORÁRIO (mm)']\n",
    "    df = df[df['PRECIPITAÇÃO TOTAL, HORÁRIO (mm)'] >= 0] # Utilizando os dados apenas maiores ou iguais a 0\n",
    "\n",
    "    # Selecionando apenas mês de outubro (10)\n",
    "    periodo_produtivo = [10] \n",
    "    df = df[df.index.map(lambda t: t.month in periodo_produtivo)]\n",
    "\n",
    "    df['CIDADE'] = f'{cidade_selecionada}, Parana, Brazil'\n",
    "\n",
    "    return df"
   ]
  },
  {
   "cell_type": "markdown",
   "metadata": {},
   "source": [
    "# Curitiba\n",
    "---"
   ]
  },
  {
   "cell_type": "code",
   "execution_count": 4,
   "metadata": {},
   "outputs": [],
   "source": [
    "df1 = ler_dados_concatenados('CURITIBA', 'A807')"
   ]
  },
  {
   "cell_type": "markdown",
   "metadata": {},
   "source": [
    "# Ivai\n",
    "---"
   ]
  },
  {
   "cell_type": "code",
   "execution_count": 5,
   "metadata": {},
   "outputs": [],
   "source": [
    "df2 = ler_dados_concatenados('IVAI', 'A818')"
   ]
  },
  {
   "cell_type": "markdown",
   "metadata": {},
   "source": [
    "# Castro\n",
    "---"
   ]
  },
  {
   "cell_type": "code",
   "execution_count": 6,
   "metadata": {},
   "outputs": [
    {
     "name": "stderr",
     "output_type": "stream",
     "text": [
      "/tmp/ipykernel_1488/426052492.py:1: DtypeWarning: Columns (13,14,15,16) have mixed types.Specify dtype option on import or set low_memory=False.\n",
      "  df3 = ler_dados_concatenados('CASTRO', 'A819')\n"
     ]
    }
   ],
   "source": [
    "df3 = ler_dados_concatenados('CASTRO', 'A819')"
   ]
  },
  {
   "cell_type": "markdown",
   "metadata": {},
   "source": [
    "# Mal. Candido Rondon\n",
    "---"
   ]
  },
  {
   "cell_type": "code",
   "execution_count": 7,
   "metadata": {},
   "outputs": [],
   "source": [
    "df4 = ler_dados_concatenados('MAL. CANDIDO RONDON', 'A820')"
   ]
  },
  {
   "cell_type": "markdown",
   "metadata": {},
   "source": [
    "# Joaquim Tavora\n",
    "---"
   ]
  },
  {
   "cell_type": "code",
   "execution_count": 8,
   "metadata": {},
   "outputs": [],
   "source": [
    "df5 = ler_dados_concatenados('JOAQUIM TAVORA', 'A821')"
   ]
  },
  {
   "cell_type": "markdown",
   "metadata": {},
   "source": [
    "# Nova Tebas\n",
    "---"
   ]
  },
  {
   "cell_type": "code",
   "execution_count": 9,
   "metadata": {},
   "outputs": [
    {
     "name": "stderr",
     "output_type": "stream",
     "text": [
      "/tmp/ipykernel_1488/1089199993.py:1: DtypeWarning: Columns (17,18) have mixed types.Specify dtype option on import or set low_memory=False.\n",
      "  df6 = ler_dados_concatenados('NOVA TEBAS', 'A822')\n"
     ]
    }
   ],
   "source": [
    "df6 = ler_dados_concatenados('NOVA TEBAS', 'A822')"
   ]
  },
  {
   "cell_type": "markdown",
   "metadata": {},
   "source": [
    "# Inacio Martins\n",
    "---"
   ]
  },
  {
   "cell_type": "code",
   "execution_count": 10,
   "metadata": {},
   "outputs": [],
   "source": [
    "df7 = ler_dados_concatenados('INACIO MARTINS', 'A823')"
   ]
  },
  {
   "cell_type": "markdown",
   "metadata": {},
   "source": [
    "# Icaraima\n",
    "---"
   ]
  },
  {
   "cell_type": "code",
   "execution_count": 11,
   "metadata": {},
   "outputs": [
    {
     "name": "stderr",
     "output_type": "stream",
     "text": [
      "/tmp/ipykernel_1488/2691655228.py:1: DtypeWarning: Columns (13,14,15,16) have mixed types.Specify dtype option on import or set low_memory=False.\n",
      "  df8 = ler_dados_concatenados('ICARAIMA', 'A824')\n"
     ]
    }
   ],
   "source": [
    "df8 = ler_dados_concatenados('ICARAIMA', 'A824')"
   ]
  },
  {
   "cell_type": "markdown",
   "metadata": {},
   "source": [
    "# Maringa\n",
    "---"
   ]
  },
  {
   "cell_type": "code",
   "execution_count": 12,
   "metadata": {},
   "outputs": [],
   "source": [
    "df9 = ler_dados_concatenados('MARINGA', 'A835')"
   ]
  },
  {
   "cell_type": "markdown",
   "metadata": {},
   "source": [
    "# Nova Fatima\n",
    "---"
   ]
  },
  {
   "cell_type": "code",
   "execution_count": 13,
   "metadata": {},
   "outputs": [
    {
     "name": "stderr",
     "output_type": "stream",
     "text": [
      "/tmp/ipykernel_1488/2344849595.py:1: DtypeWarning: Columns (12,17,18) have mixed types.Specify dtype option on import or set low_memory=False.\n",
      "  df10 = ler_dados_concatenados('NOVA FATIMA', 'A842')\n"
     ]
    }
   ],
   "source": [
    "df10 = ler_dados_concatenados('NOVA FATIMA', 'A842')"
   ]
  },
  {
   "cell_type": "markdown",
   "metadata": {},
   "source": [
    "# Dois Vizinhos\n",
    "---"
   ]
  },
  {
   "cell_type": "code",
   "execution_count": 14,
   "metadata": {},
   "outputs": [
    {
     "name": "stderr",
     "output_type": "stream",
     "text": [
      "/tmp/ipykernel_1488/1530149479.py:1: DtypeWarning: Columns (2) have mixed types.Specify dtype option on import or set low_memory=False.\n",
      "  df11 = ler_dados_concatenados('DOIS VIZINHOS', 'A843')\n"
     ]
    }
   ],
   "source": [
    "df11 = ler_dados_concatenados('DOIS VIZINHOS', 'A843')"
   ]
  },
  {
   "cell_type": "markdown",
   "metadata": {},
   "source": [
    "# Foz do Iguaçu\n",
    "---"
   ]
  },
  {
   "cell_type": "code",
   "execution_count": 15,
   "metadata": {},
   "outputs": [],
   "source": [
    "df12 = ler_dados_concatenados('FOZ DO IGUACU', 'A846')"
   ]
  },
  {
   "cell_type": "markdown",
   "metadata": {},
   "source": [
    "# Diamante do Norte\n",
    "---"
   ]
  },
  {
   "cell_type": "code",
   "execution_count": 16,
   "metadata": {},
   "outputs": [],
   "source": [
    "df13 = ler_dados_concatenados('DIAMANTE DO NORTE', 'A849')"
   ]
  },
  {
   "cell_type": "markdown",
   "metadata": {},
   "source": [
    "# Paranapoema\n",
    "---"
   ]
  },
  {
   "cell_type": "code",
   "execution_count": 17,
   "metadata": {},
   "outputs": [],
   "source": [
    "df14 = ler_dados_concatenados('PARANAPOEMA', 'A850')"
   ]
  },
  {
   "cell_type": "markdown",
   "metadata": {},
   "source": [
    "# Planalto\n",
    "---"
   ]
  },
  {
   "cell_type": "code",
   "execution_count": 18,
   "metadata": {},
   "outputs": [
    {
     "name": "stderr",
     "output_type": "stream",
     "text": [
      "/tmp/ipykernel_1488/2780052131.py:1: DtypeWarning: Columns (2) have mixed types.Specify dtype option on import or set low_memory=False.\n",
      "  df15 = ler_dados_concatenados('PLANALTO', 'A855')\n"
     ]
    }
   ],
   "source": [
    "df15 = ler_dados_concatenados('PLANALTO', 'A855')"
   ]
  },
  {
   "cell_type": "markdown",
   "metadata": {},
   "source": [
    "# Cidade Gaucha\n",
    "---"
   ]
  },
  {
   "cell_type": "code",
   "execution_count": 19,
   "metadata": {},
   "outputs": [],
   "source": [
    "df16 = ler_dados_concatenados('CIDADE GAUCHA', 'A869')"
   ]
  },
  {
   "cell_type": "markdown",
   "metadata": {},
   "source": [
    "# Japira\n",
    "---"
   ]
  },
  {
   "cell_type": "code",
   "execution_count": 20,
   "metadata": {},
   "outputs": [],
   "source": [
    "df17 = ler_dados_concatenados('JAPIRA', 'A871')"
   ]
  },
  {
   "cell_type": "markdown",
   "metadata": {},
   "source": [
    "# Ventania\n",
    "---"
   ]
  },
  {
   "cell_type": "code",
   "execution_count": 21,
   "metadata": {},
   "outputs": [],
   "source": [
    "df18 = ler_dados_concatenados('VENTANIA', 'A872')"
   ]
  },
  {
   "cell_type": "markdown",
   "metadata": {},
   "source": [
    "# Morretes\n",
    "---"
   ]
  },
  {
   "cell_type": "code",
   "execution_count": 22,
   "metadata": {},
   "outputs": [],
   "source": [
    "df19 = ler_dados_concatenados('MORRETES', 'A873')"
   ]
  },
  {
   "cell_type": "markdown",
   "metadata": {},
   "source": [
    "# Sao Mateus do Sul\n",
    "---"
   ]
  },
  {
   "cell_type": "code",
   "execution_count": 23,
   "metadata": {},
   "outputs": [],
   "source": [
    "df20 = ler_dados_concatenados('SAO MATEUS DO SUL', 'A874')"
   ]
  },
  {
   "cell_type": "markdown",
   "metadata": {},
   "source": [
    "# General Carneiro\n",
    "---"
   ]
  },
  {
   "cell_type": "code",
   "execution_count": 24,
   "metadata": {},
   "outputs": [],
   "source": [
    "df21 = ler_dados_concatenados('GENERAL CARNEIRO', 'A875')"
   ]
  },
  {
   "cell_type": "markdown",
   "metadata": {},
   "source": [
    "# Clevelandia\n",
    "---"
   ]
  },
  {
   "cell_type": "code",
   "execution_count": 25,
   "metadata": {},
   "outputs": [],
   "source": [
    "df22 = ler_dados_concatenados('CLEVELANDIA', 'A876')"
   ]
  },
  {
   "cell_type": "markdown",
   "metadata": {},
   "source": [
    "# Campina da Lagoa\n",
    "---"
   ]
  },
  {
   "cell_type": "code",
   "execution_count": 26,
   "metadata": {},
   "outputs": [],
   "source": [
    "df23 = ler_dados_concatenados('CAMPINA DA LAGOA', 'B803')"
   ]
  },
  {
   "cell_type": "markdown",
   "metadata": {},
   "source": [
    "# Laranjeiras do Sul\n",
    "---"
   ]
  },
  {
   "cell_type": "code",
   "execution_count": 27,
   "metadata": {},
   "outputs": [],
   "source": [
    "df24 = ler_dados_concatenados('LARANJEIRAS DO SUL', 'B804')"
   ]
  },
  {
   "cell_type": "markdown",
   "metadata": {},
   "source": [
    "# Colombo\n",
    "---"
   ]
  },
  {
   "cell_type": "code",
   "execution_count": 28,
   "metadata": {},
   "outputs": [],
   "source": [
    "df25 = ler_dados_concatenados('COLOMBO', 'B806')"
   ]
  },
  {
   "cell_type": "markdown",
   "metadata": {},
   "source": [
    "# Concatenando todas as cidades\n",
    "---"
   ]
  },
  {
   "cell_type": "code",
   "execution_count": 29,
   "metadata": {},
   "outputs": [],
   "source": [
    "df_cidades = pd.concat([df1, df2, df3, df4, df5, df6, df7, df8, df9, df10, df11, df12, \n",
    "                        df13, df14, df15, df16, df17, df18, df19, df20, df21, df22, df23, df24, df25])"
   ]
  },
  {
   "cell_type": "code",
   "execution_count": 30,
   "metadata": {},
   "outputs": [
    {
     "data": {
      "text/html": [
       "<div>\n",
       "<style scoped>\n",
       "    .dataframe tbody tr th:only-of-type {\n",
       "        vertical-align: middle;\n",
       "    }\n",
       "\n",
       "    .dataframe tbody tr th {\n",
       "        vertical-align: top;\n",
       "    }\n",
       "\n",
       "    .dataframe thead th {\n",
       "        text-align: right;\n",
       "    }\n",
       "</style>\n",
       "<table border=\"1\" class=\"dataframe\">\n",
       "  <thead>\n",
       "    <tr style=\"text-align: right;\">\n",
       "      <th></th>\n",
       "      <th>PRECIPITAÇÃO TOTAL, HORÁRIO (mm)</th>\n",
       "      <th>PRESSAO ATMOSFERICA AO NIVEL DA ESTACAO, HORARIA (mB)</th>\n",
       "      <th>PRESSÃO ATMOSFERICA MAX.NA HORA ANT. (AUT) (mB)</th>\n",
       "      <th>PRESSÃO ATMOSFERICA MIN. NA HORA ANT. (AUT) (mB)</th>\n",
       "      <th>RADIACAO GLOBAL (KJ/m²)</th>\n",
       "      <th>TEMPERATURA DO AR - BULBO SECO, HORARIA (°C)</th>\n",
       "      <th>TEMPERATURA DO PONTO DE ORVALHO (°C)</th>\n",
       "      <th>TEMPERATURA MÁXIMA NA HORA ANT. (AUT) (°C)</th>\n",
       "      <th>TEMPERATURA MÍNIMA NA HORA ANT. (AUT) (°C)</th>\n",
       "      <th>TEMPERATURA ORVALHO MAX. NA HORA ANT. (AUT) (°C)</th>\n",
       "      <th>TEMPERATURA ORVALHO MIN. NA HORA ANT. (AUT) (°C)</th>\n",
       "      <th>UMIDADE REL. MAX. NA HORA ANT. (AUT) (%)</th>\n",
       "      <th>UMIDADE REL. MIN. NA HORA ANT. (AUT) (%)</th>\n",
       "      <th>UMIDADE RELATIVA DO AR, HORARIA (%)</th>\n",
       "      <th>VENTO, DIREÇÃO HORARIA (gr) (° (gr))</th>\n",
       "      <th>VENTO, RAJADA MAXIMA (m/s)</th>\n",
       "      <th>VENTO, VELOCIDADE HORARIA (m/s)</th>\n",
       "      <th>CIDADE</th>\n",
       "    </tr>\n",
       "    <tr>\n",
       "      <th>DATA (YYYY-MM-DD)</th>\n",
       "      <th></th>\n",
       "      <th></th>\n",
       "      <th></th>\n",
       "      <th></th>\n",
       "      <th></th>\n",
       "      <th></th>\n",
       "      <th></th>\n",
       "      <th></th>\n",
       "      <th></th>\n",
       "      <th></th>\n",
       "      <th></th>\n",
       "      <th></th>\n",
       "      <th></th>\n",
       "      <th></th>\n",
       "      <th></th>\n",
       "      <th></th>\n",
       "      <th></th>\n",
       "      <th></th>\n",
       "    </tr>\n",
       "  </thead>\n",
       "  <tbody>\n",
       "    <tr>\n",
       "      <th>2006-10-01</th>\n",
       "      <td>0.18</td>\n",
       "      <td>916.47</td>\n",
       "      <td>916.71</td>\n",
       "      <td>916.26</td>\n",
       "      <td>981.89</td>\n",
       "      <td>13.98</td>\n",
       "      <td>10.66</td>\n",
       "      <td>14.32</td>\n",
       "      <td>13.63</td>\n",
       "      <td>10.97</td>\n",
       "      <td>10.32</td>\n",
       "      <td>83.51</td>\n",
       "      <td>79.79</td>\n",
       "      <td>81.73</td>\n",
       "      <td>112.24</td>\n",
       "      <td>6.05</td>\n",
       "      <td>2.77</td>\n",
       "      <td>CURITIBA, Parana, Brazil</td>\n",
       "    </tr>\n",
       "    <tr>\n",
       "      <th>2006-10-08</th>\n",
       "      <td>0.06</td>\n",
       "      <td>911.53</td>\n",
       "      <td>911.82</td>\n",
       "      <td>911.28</td>\n",
       "      <td>1072.84</td>\n",
       "      <td>18.04</td>\n",
       "      <td>14.20</td>\n",
       "      <td>18.60</td>\n",
       "      <td>17.58</td>\n",
       "      <td>14.61</td>\n",
       "      <td>13.82</td>\n",
       "      <td>81.88</td>\n",
       "      <td>76.85</td>\n",
       "      <td>79.47</td>\n",
       "      <td>132.42</td>\n",
       "      <td>5.35</td>\n",
       "      <td>2.33</td>\n",
       "      <td>CURITIBA, Parana, Brazil</td>\n",
       "    </tr>\n",
       "    <tr>\n",
       "      <th>2006-10-15</th>\n",
       "      <td>0.11</td>\n",
       "      <td>911.87</td>\n",
       "      <td>912.15</td>\n",
       "      <td>911.65</td>\n",
       "      <td>1091.36</td>\n",
       "      <td>18.68</td>\n",
       "      <td>14.81</td>\n",
       "      <td>19.15</td>\n",
       "      <td>18.18</td>\n",
       "      <td>15.22</td>\n",
       "      <td>14.42</td>\n",
       "      <td>82.27</td>\n",
       "      <td>77.60</td>\n",
       "      <td>79.88</td>\n",
       "      <td>103.19</td>\n",
       "      <td>5.22</td>\n",
       "      <td>2.36</td>\n",
       "      <td>CURITIBA, Parana, Brazil</td>\n",
       "    </tr>\n",
       "    <tr>\n",
       "      <th>2006-10-22</th>\n",
       "      <td>0.07</td>\n",
       "      <td>913.04</td>\n",
       "      <td>913.29</td>\n",
       "      <td>912.82</td>\n",
       "      <td>967.55</td>\n",
       "      <td>15.70</td>\n",
       "      <td>12.25</td>\n",
       "      <td>16.14</td>\n",
       "      <td>15.27</td>\n",
       "      <td>12.64</td>\n",
       "      <td>11.94</td>\n",
       "      <td>83.25</td>\n",
       "      <td>78.95</td>\n",
       "      <td>81.06</td>\n",
       "      <td>105.03</td>\n",
       "      <td>5.87</td>\n",
       "      <td>2.73</td>\n",
       "      <td>CURITIBA, Parana, Brazil</td>\n",
       "    </tr>\n",
       "    <tr>\n",
       "      <th>2006-10-29</th>\n",
       "      <td>0.00</td>\n",
       "      <td>912.23</td>\n",
       "      <td>912.51</td>\n",
       "      <td>912.01</td>\n",
       "      <td>1428.66</td>\n",
       "      <td>18.79</td>\n",
       "      <td>12.67</td>\n",
       "      <td>19.46</td>\n",
       "      <td>18.12</td>\n",
       "      <td>13.19</td>\n",
       "      <td>12.19</td>\n",
       "      <td>73.39</td>\n",
       "      <td>67.32</td>\n",
       "      <td>70.42</td>\n",
       "      <td>123.96</td>\n",
       "      <td>6.02</td>\n",
       "      <td>2.73</td>\n",
       "      <td>CURITIBA, Parana, Brazil</td>\n",
       "    </tr>\n",
       "    <tr>\n",
       "      <th>2007-10-07</th>\n",
       "      <td>0.00</td>\n",
       "      <td>914.93</td>\n",
       "      <td>915.21</td>\n",
       "      <td>914.69</td>\n",
       "      <td>1297.45</td>\n",
       "      <td>16.89</td>\n",
       "      <td>11.71</td>\n",
       "      <td>17.48</td>\n",
       "      <td>16.32</td>\n",
       "      <td>12.13</td>\n",
       "      <td>11.31</td>\n",
       "      <td>76.70</td>\n",
       "      <td>71.39</td>\n",
       "      <td>74.08</td>\n",
       "      <td>97.64</td>\n",
       "      <td>6.04</td>\n",
       "      <td>2.79</td>\n",
       "      <td>CURITIBA, Parana, Brazil</td>\n",
       "    </tr>\n",
       "    <tr>\n",
       "      <th>2007-10-14</th>\n",
       "      <td>0.24</td>\n",
       "      <td>912.00</td>\n",
       "      <td>912.31</td>\n",
       "      <td>911.74</td>\n",
       "      <td>1136.24</td>\n",
       "      <td>19.38</td>\n",
       "      <td>14.19</td>\n",
       "      <td>19.90</td>\n",
       "      <td>18.93</td>\n",
       "      <td>14.61</td>\n",
       "      <td>13.84</td>\n",
       "      <td>77.42</td>\n",
       "      <td>72.71</td>\n",
       "      <td>75.12</td>\n",
       "      <td>128.53</td>\n",
       "      <td>6.33</td>\n",
       "      <td>2.88</td>\n",
       "      <td>CURITIBA, Parana, Brazil</td>\n",
       "    </tr>\n",
       "    <tr>\n",
       "      <th>2007-10-21</th>\n",
       "      <td>0.21</td>\n",
       "      <td>911.53</td>\n",
       "      <td>911.86</td>\n",
       "      <td>911.24</td>\n",
       "      <td>1091.94</td>\n",
       "      <td>18.37</td>\n",
       "      <td>14.30</td>\n",
       "      <td>18.87</td>\n",
       "      <td>17.88</td>\n",
       "      <td>14.74</td>\n",
       "      <td>13.87</td>\n",
       "      <td>81.79</td>\n",
       "      <td>76.75</td>\n",
       "      <td>79.33</td>\n",
       "      <td>141.21</td>\n",
       "      <td>5.31</td>\n",
       "      <td>2.26</td>\n",
       "      <td>CURITIBA, Parana, Brazil</td>\n",
       "    </tr>\n",
       "    <tr>\n",
       "      <th>2007-10-28</th>\n",
       "      <td>0.10</td>\n",
       "      <td>913.01</td>\n",
       "      <td>913.33</td>\n",
       "      <td>912.77</td>\n",
       "      <td>969.38</td>\n",
       "      <td>17.83</td>\n",
       "      <td>14.17</td>\n",
       "      <td>18.28</td>\n",
       "      <td>17.40</td>\n",
       "      <td>14.51</td>\n",
       "      <td>13.81</td>\n",
       "      <td>82.98</td>\n",
       "      <td>78.53</td>\n",
       "      <td>80.83</td>\n",
       "      <td>133.75</td>\n",
       "      <td>5.58</td>\n",
       "      <td>2.50</td>\n",
       "      <td>CURITIBA, Parana, Brazil</td>\n",
       "    </tr>\n",
       "    <tr>\n",
       "      <th>2008-10-05</th>\n",
       "      <td>0.40</td>\n",
       "      <td>911.70</td>\n",
       "      <td>912.09</td>\n",
       "      <td>911.46</td>\n",
       "      <td>1187.18</td>\n",
       "      <td>17.16</td>\n",
       "      <td>13.26</td>\n",
       "      <td>17.73</td>\n",
       "      <td>16.68</td>\n",
       "      <td>13.73</td>\n",
       "      <td>12.76</td>\n",
       "      <td>81.99</td>\n",
       "      <td>76.40</td>\n",
       "      <td>79.61</td>\n",
       "      <td>128.39</td>\n",
       "      <td>6.02</td>\n",
       "      <td>2.48</td>\n",
       "      <td>CURITIBA, Parana, Brazil</td>\n",
       "    </tr>\n",
       "  </tbody>\n",
       "</table>\n",
       "</div>"
      ],
      "text/plain": [
       "                   PRECIPITAÇÃO TOTAL, HORÁRIO (mm)  \\\n",
       "DATA (YYYY-MM-DD)                                     \n",
       "2006-10-01                                     0.18   \n",
       "2006-10-08                                     0.06   \n",
       "2006-10-15                                     0.11   \n",
       "2006-10-22                                     0.07   \n",
       "2006-10-29                                     0.00   \n",
       "2007-10-07                                     0.00   \n",
       "2007-10-14                                     0.24   \n",
       "2007-10-21                                     0.21   \n",
       "2007-10-28                                     0.10   \n",
       "2008-10-05                                     0.40   \n",
       "\n",
       "                   PRESSAO ATMOSFERICA AO NIVEL DA ESTACAO, HORARIA (mB)  \\\n",
       "DATA (YYYY-MM-DD)                                                          \n",
       "2006-10-01                                                    916.47       \n",
       "2006-10-08                                                    911.53       \n",
       "2006-10-15                                                    911.87       \n",
       "2006-10-22                                                    913.04       \n",
       "2006-10-29                                                    912.23       \n",
       "2007-10-07                                                    914.93       \n",
       "2007-10-14                                                    912.00       \n",
       "2007-10-21                                                    911.53       \n",
       "2007-10-28                                                    913.01       \n",
       "2008-10-05                                                    911.70       \n",
       "\n",
       "                   PRESSÃO ATMOSFERICA MAX.NA HORA ANT. (AUT) (mB)  \\\n",
       "DATA (YYYY-MM-DD)                                                    \n",
       "2006-10-01                                                  916.71   \n",
       "2006-10-08                                                  911.82   \n",
       "2006-10-15                                                  912.15   \n",
       "2006-10-22                                                  913.29   \n",
       "2006-10-29                                                  912.51   \n",
       "2007-10-07                                                  915.21   \n",
       "2007-10-14                                                  912.31   \n",
       "2007-10-21                                                  911.86   \n",
       "2007-10-28                                                  913.33   \n",
       "2008-10-05                                                  912.09   \n",
       "\n",
       "                   PRESSÃO ATMOSFERICA MIN. NA HORA ANT. (AUT) (mB)  \\\n",
       "DATA (YYYY-MM-DD)                                                     \n",
       "2006-10-01                                                   916.26   \n",
       "2006-10-08                                                   911.28   \n",
       "2006-10-15                                                   911.65   \n",
       "2006-10-22                                                   912.82   \n",
       "2006-10-29                                                   912.01   \n",
       "2007-10-07                                                   914.69   \n",
       "2007-10-14                                                   911.74   \n",
       "2007-10-21                                                   911.24   \n",
       "2007-10-28                                                   912.77   \n",
       "2008-10-05                                                   911.46   \n",
       "\n",
       "                   RADIACAO GLOBAL (KJ/m²)  \\\n",
       "DATA (YYYY-MM-DD)                            \n",
       "2006-10-01                          981.89   \n",
       "2006-10-08                         1072.84   \n",
       "2006-10-15                         1091.36   \n",
       "2006-10-22                          967.55   \n",
       "2006-10-29                         1428.66   \n",
       "2007-10-07                         1297.45   \n",
       "2007-10-14                         1136.24   \n",
       "2007-10-21                         1091.94   \n",
       "2007-10-28                          969.38   \n",
       "2008-10-05                         1187.18   \n",
       "\n",
       "                   TEMPERATURA DO AR - BULBO SECO, HORARIA (°C)  \\\n",
       "DATA (YYYY-MM-DD)                                                 \n",
       "2006-10-01                                                13.98   \n",
       "2006-10-08                                                18.04   \n",
       "2006-10-15                                                18.68   \n",
       "2006-10-22                                                15.70   \n",
       "2006-10-29                                                18.79   \n",
       "2007-10-07                                                16.89   \n",
       "2007-10-14                                                19.38   \n",
       "2007-10-21                                                18.37   \n",
       "2007-10-28                                                17.83   \n",
       "2008-10-05                                                17.16   \n",
       "\n",
       "                   TEMPERATURA DO PONTO DE ORVALHO (°C)  \\\n",
       "DATA (YYYY-MM-DD)                                         \n",
       "2006-10-01                                        10.66   \n",
       "2006-10-08                                        14.20   \n",
       "2006-10-15                                        14.81   \n",
       "2006-10-22                                        12.25   \n",
       "2006-10-29                                        12.67   \n",
       "2007-10-07                                        11.71   \n",
       "2007-10-14                                        14.19   \n",
       "2007-10-21                                        14.30   \n",
       "2007-10-28                                        14.17   \n",
       "2008-10-05                                        13.26   \n",
       "\n",
       "                   TEMPERATURA MÁXIMA NA HORA ANT. (AUT) (°C)  \\\n",
       "DATA (YYYY-MM-DD)                                               \n",
       "2006-10-01                                              14.32   \n",
       "2006-10-08                                              18.60   \n",
       "2006-10-15                                              19.15   \n",
       "2006-10-22                                              16.14   \n",
       "2006-10-29                                              19.46   \n",
       "2007-10-07                                              17.48   \n",
       "2007-10-14                                              19.90   \n",
       "2007-10-21                                              18.87   \n",
       "2007-10-28                                              18.28   \n",
       "2008-10-05                                              17.73   \n",
       "\n",
       "                   TEMPERATURA MÍNIMA NA HORA ANT. (AUT) (°C)  \\\n",
       "DATA (YYYY-MM-DD)                                               \n",
       "2006-10-01                                              13.63   \n",
       "2006-10-08                                              17.58   \n",
       "2006-10-15                                              18.18   \n",
       "2006-10-22                                              15.27   \n",
       "2006-10-29                                              18.12   \n",
       "2007-10-07                                              16.32   \n",
       "2007-10-14                                              18.93   \n",
       "2007-10-21                                              17.88   \n",
       "2007-10-28                                              17.40   \n",
       "2008-10-05                                              16.68   \n",
       "\n",
       "                   TEMPERATURA ORVALHO MAX. NA HORA ANT. (AUT) (°C)  \\\n",
       "DATA (YYYY-MM-DD)                                                     \n",
       "2006-10-01                                                    10.97   \n",
       "2006-10-08                                                    14.61   \n",
       "2006-10-15                                                    15.22   \n",
       "2006-10-22                                                    12.64   \n",
       "2006-10-29                                                    13.19   \n",
       "2007-10-07                                                    12.13   \n",
       "2007-10-14                                                    14.61   \n",
       "2007-10-21                                                    14.74   \n",
       "2007-10-28                                                    14.51   \n",
       "2008-10-05                                                    13.73   \n",
       "\n",
       "                   TEMPERATURA ORVALHO MIN. NA HORA ANT. (AUT) (°C)  \\\n",
       "DATA (YYYY-MM-DD)                                                     \n",
       "2006-10-01                                                    10.32   \n",
       "2006-10-08                                                    13.82   \n",
       "2006-10-15                                                    14.42   \n",
       "2006-10-22                                                    11.94   \n",
       "2006-10-29                                                    12.19   \n",
       "2007-10-07                                                    11.31   \n",
       "2007-10-14                                                    13.84   \n",
       "2007-10-21                                                    13.87   \n",
       "2007-10-28                                                    13.81   \n",
       "2008-10-05                                                    12.76   \n",
       "\n",
       "                   UMIDADE REL. MAX. NA HORA ANT. (AUT) (%)  \\\n",
       "DATA (YYYY-MM-DD)                                             \n",
       "2006-10-01                                            83.51   \n",
       "2006-10-08                                            81.88   \n",
       "2006-10-15                                            82.27   \n",
       "2006-10-22                                            83.25   \n",
       "2006-10-29                                            73.39   \n",
       "2007-10-07                                            76.70   \n",
       "2007-10-14                                            77.42   \n",
       "2007-10-21                                            81.79   \n",
       "2007-10-28                                            82.98   \n",
       "2008-10-05                                            81.99   \n",
       "\n",
       "                   UMIDADE REL. MIN. NA HORA ANT. (AUT) (%)  \\\n",
       "DATA (YYYY-MM-DD)                                             \n",
       "2006-10-01                                            79.79   \n",
       "2006-10-08                                            76.85   \n",
       "2006-10-15                                            77.60   \n",
       "2006-10-22                                            78.95   \n",
       "2006-10-29                                            67.32   \n",
       "2007-10-07                                            71.39   \n",
       "2007-10-14                                            72.71   \n",
       "2007-10-21                                            76.75   \n",
       "2007-10-28                                            78.53   \n",
       "2008-10-05                                            76.40   \n",
       "\n",
       "                   UMIDADE RELATIVA DO AR, HORARIA (%)  \\\n",
       "DATA (YYYY-MM-DD)                                        \n",
       "2006-10-01                                       81.73   \n",
       "2006-10-08                                       79.47   \n",
       "2006-10-15                                       79.88   \n",
       "2006-10-22                                       81.06   \n",
       "2006-10-29                                       70.42   \n",
       "2007-10-07                                       74.08   \n",
       "2007-10-14                                       75.12   \n",
       "2007-10-21                                       79.33   \n",
       "2007-10-28                                       80.83   \n",
       "2008-10-05                                       79.61   \n",
       "\n",
       "                   VENTO, DIREÇÃO HORARIA (gr) (° (gr))  \\\n",
       "DATA (YYYY-MM-DD)                                         \n",
       "2006-10-01                                       112.24   \n",
       "2006-10-08                                       132.42   \n",
       "2006-10-15                                       103.19   \n",
       "2006-10-22                                       105.03   \n",
       "2006-10-29                                       123.96   \n",
       "2007-10-07                                        97.64   \n",
       "2007-10-14                                       128.53   \n",
       "2007-10-21                                       141.21   \n",
       "2007-10-28                                       133.75   \n",
       "2008-10-05                                       128.39   \n",
       "\n",
       "                   VENTO, RAJADA MAXIMA (m/s)  \\\n",
       "DATA (YYYY-MM-DD)                               \n",
       "2006-10-01                               6.05   \n",
       "2006-10-08                               5.35   \n",
       "2006-10-15                               5.22   \n",
       "2006-10-22                               5.87   \n",
       "2006-10-29                               6.02   \n",
       "2007-10-07                               6.04   \n",
       "2007-10-14                               6.33   \n",
       "2007-10-21                               5.31   \n",
       "2007-10-28                               5.58   \n",
       "2008-10-05                               6.02   \n",
       "\n",
       "                   VENTO, VELOCIDADE HORARIA (m/s)                    CIDADE  \n",
       "DATA (YYYY-MM-DD)                                                             \n",
       "2006-10-01                                    2.77  CURITIBA, Parana, Brazil  \n",
       "2006-10-08                                    2.33  CURITIBA, Parana, Brazil  \n",
       "2006-10-15                                    2.36  CURITIBA, Parana, Brazil  \n",
       "2006-10-22                                    2.73  CURITIBA, Parana, Brazil  \n",
       "2006-10-29                                    2.73  CURITIBA, Parana, Brazil  \n",
       "2007-10-07                                    2.79  CURITIBA, Parana, Brazil  \n",
       "2007-10-14                                    2.88  CURITIBA, Parana, Brazil  \n",
       "2007-10-21                                    2.26  CURITIBA, Parana, Brazil  \n",
       "2007-10-28                                    2.50  CURITIBA, Parana, Brazil  \n",
       "2008-10-05                                    2.48  CURITIBA, Parana, Brazil  "
      ]
     },
     "execution_count": 30,
     "metadata": {},
     "output_type": "execute_result"
    }
   ],
   "source": [
    "df_cidades.head(10)"
   ]
  },
  {
   "cell_type": "markdown",
   "metadata": {},
   "source": [
    "# Gerando Latitude e Longitude das Cidades\n",
    "---"
   ]
  },
  {
   "cell_type": "code",
   "execution_count": 31,
   "metadata": {},
   "outputs": [],
   "source": [
    "lat = pd.Series(df_cidades['CIDADE'].unique().tolist(), index=df_cidades['CIDADE'].unique().tolist()).apply(geocode).apply(lambda location: location.latitude)\n",
    "long = pd.Series(df_cidades['CIDADE'].unique().tolist(), index=df_cidades['CIDADE'].unique().tolist()).apply(geocode).apply(lambda location: location.longitude)\n",
    "lat.name = 'LATITUDE'\n",
    "long.name = 'LONGITUDE'\n",
    "df_lat = df_cidades.merge(lat, how='left', left_on='CIDADE', right_index=True)\n",
    "df_lat_long = df_lat.merge(long, how='left', left_on='CIDADE', right_index=True)"
   ]
  },
  {
   "cell_type": "code",
   "execution_count": 32,
   "metadata": {},
   "outputs": [
    {
     "data": {
      "text/html": [
       "<div>\n",
       "<style scoped>\n",
       "    .dataframe tbody tr th:only-of-type {\n",
       "        vertical-align: middle;\n",
       "    }\n",
       "\n",
       "    .dataframe tbody tr th {\n",
       "        vertical-align: top;\n",
       "    }\n",
       "\n",
       "    .dataframe thead th {\n",
       "        text-align: right;\n",
       "    }\n",
       "</style>\n",
       "<table border=\"1\" class=\"dataframe\">\n",
       "  <thead>\n",
       "    <tr style=\"text-align: right;\">\n",
       "      <th></th>\n",
       "      <th>PRECIPITAÇÃO TOTAL, HORÁRIO (mm)</th>\n",
       "      <th>PRESSAO ATMOSFERICA AO NIVEL DA ESTACAO, HORARIA (mB)</th>\n",
       "      <th>PRESSÃO ATMOSFERICA MAX.NA HORA ANT. (AUT) (mB)</th>\n",
       "      <th>PRESSÃO ATMOSFERICA MIN. NA HORA ANT. (AUT) (mB)</th>\n",
       "      <th>RADIACAO GLOBAL (KJ/m²)</th>\n",
       "      <th>TEMPERATURA DO AR - BULBO SECO, HORARIA (°C)</th>\n",
       "      <th>TEMPERATURA DO PONTO DE ORVALHO (°C)</th>\n",
       "      <th>TEMPERATURA MÁXIMA NA HORA ANT. (AUT) (°C)</th>\n",
       "      <th>TEMPERATURA MÍNIMA NA HORA ANT. (AUT) (°C)</th>\n",
       "      <th>TEMPERATURA ORVALHO MAX. NA HORA ANT. (AUT) (°C)</th>\n",
       "      <th>TEMPERATURA ORVALHO MIN. NA HORA ANT. (AUT) (°C)</th>\n",
       "      <th>UMIDADE REL. MAX. NA HORA ANT. (AUT) (%)</th>\n",
       "      <th>UMIDADE REL. MIN. NA HORA ANT. (AUT) (%)</th>\n",
       "      <th>UMIDADE RELATIVA DO AR, HORARIA (%)</th>\n",
       "      <th>VENTO, DIREÇÃO HORARIA (gr) (° (gr))</th>\n",
       "      <th>VENTO, RAJADA MAXIMA (m/s)</th>\n",
       "      <th>VENTO, VELOCIDADE HORARIA (m/s)</th>\n",
       "      <th>CIDADE</th>\n",
       "      <th>LATITUDE</th>\n",
       "      <th>LONGITUDE</th>\n",
       "    </tr>\n",
       "    <tr>\n",
       "      <th>DATA (YYYY-MM-DD)</th>\n",
       "      <th></th>\n",
       "      <th></th>\n",
       "      <th></th>\n",
       "      <th></th>\n",
       "      <th></th>\n",
       "      <th></th>\n",
       "      <th></th>\n",
       "      <th></th>\n",
       "      <th></th>\n",
       "      <th></th>\n",
       "      <th></th>\n",
       "      <th></th>\n",
       "      <th></th>\n",
       "      <th></th>\n",
       "      <th></th>\n",
       "      <th></th>\n",
       "      <th></th>\n",
       "      <th></th>\n",
       "      <th></th>\n",
       "      <th></th>\n",
       "    </tr>\n",
       "  </thead>\n",
       "  <tbody>\n",
       "    <tr>\n",
       "      <th>2006-10-01</th>\n",
       "      <td>0.18</td>\n",
       "      <td>916.47</td>\n",
       "      <td>916.71</td>\n",
       "      <td>916.26</td>\n",
       "      <td>981.89</td>\n",
       "      <td>13.98</td>\n",
       "      <td>10.66</td>\n",
       "      <td>14.32</td>\n",
       "      <td>13.63</td>\n",
       "      <td>10.97</td>\n",
       "      <td>10.32</td>\n",
       "      <td>83.51</td>\n",
       "      <td>79.79</td>\n",
       "      <td>81.73</td>\n",
       "      <td>112.24</td>\n",
       "      <td>6.05</td>\n",
       "      <td>2.77</td>\n",
       "      <td>CURITIBA, Parana, Brazil</td>\n",
       "      <td>-25.429596</td>\n",
       "      <td>-49.271272</td>\n",
       "    </tr>\n",
       "    <tr>\n",
       "      <th>2006-10-08</th>\n",
       "      <td>0.06</td>\n",
       "      <td>911.53</td>\n",
       "      <td>911.82</td>\n",
       "      <td>911.28</td>\n",
       "      <td>1072.84</td>\n",
       "      <td>18.04</td>\n",
       "      <td>14.20</td>\n",
       "      <td>18.60</td>\n",
       "      <td>17.58</td>\n",
       "      <td>14.61</td>\n",
       "      <td>13.82</td>\n",
       "      <td>81.88</td>\n",
       "      <td>76.85</td>\n",
       "      <td>79.47</td>\n",
       "      <td>132.42</td>\n",
       "      <td>5.35</td>\n",
       "      <td>2.33</td>\n",
       "      <td>CURITIBA, Parana, Brazil</td>\n",
       "      <td>-25.429596</td>\n",
       "      <td>-49.271272</td>\n",
       "    </tr>\n",
       "    <tr>\n",
       "      <th>2006-10-15</th>\n",
       "      <td>0.11</td>\n",
       "      <td>911.87</td>\n",
       "      <td>912.15</td>\n",
       "      <td>911.65</td>\n",
       "      <td>1091.36</td>\n",
       "      <td>18.68</td>\n",
       "      <td>14.81</td>\n",
       "      <td>19.15</td>\n",
       "      <td>18.18</td>\n",
       "      <td>15.22</td>\n",
       "      <td>14.42</td>\n",
       "      <td>82.27</td>\n",
       "      <td>77.60</td>\n",
       "      <td>79.88</td>\n",
       "      <td>103.19</td>\n",
       "      <td>5.22</td>\n",
       "      <td>2.36</td>\n",
       "      <td>CURITIBA, Parana, Brazil</td>\n",
       "      <td>-25.429596</td>\n",
       "      <td>-49.271272</td>\n",
       "    </tr>\n",
       "    <tr>\n",
       "      <th>2006-10-22</th>\n",
       "      <td>0.07</td>\n",
       "      <td>913.04</td>\n",
       "      <td>913.29</td>\n",
       "      <td>912.82</td>\n",
       "      <td>967.55</td>\n",
       "      <td>15.70</td>\n",
       "      <td>12.25</td>\n",
       "      <td>16.14</td>\n",
       "      <td>15.27</td>\n",
       "      <td>12.64</td>\n",
       "      <td>11.94</td>\n",
       "      <td>83.25</td>\n",
       "      <td>78.95</td>\n",
       "      <td>81.06</td>\n",
       "      <td>105.03</td>\n",
       "      <td>5.87</td>\n",
       "      <td>2.73</td>\n",
       "      <td>CURITIBA, Parana, Brazil</td>\n",
       "      <td>-25.429596</td>\n",
       "      <td>-49.271272</td>\n",
       "    </tr>\n",
       "    <tr>\n",
       "      <th>2006-10-29</th>\n",
       "      <td>0.00</td>\n",
       "      <td>912.23</td>\n",
       "      <td>912.51</td>\n",
       "      <td>912.01</td>\n",
       "      <td>1428.66</td>\n",
       "      <td>18.79</td>\n",
       "      <td>12.67</td>\n",
       "      <td>19.46</td>\n",
       "      <td>18.12</td>\n",
       "      <td>13.19</td>\n",
       "      <td>12.19</td>\n",
       "      <td>73.39</td>\n",
       "      <td>67.32</td>\n",
       "      <td>70.42</td>\n",
       "      <td>123.96</td>\n",
       "      <td>6.02</td>\n",
       "      <td>2.73</td>\n",
       "      <td>CURITIBA, Parana, Brazil</td>\n",
       "      <td>-25.429596</td>\n",
       "      <td>-49.271272</td>\n",
       "    </tr>\n",
       "  </tbody>\n",
       "</table>\n",
       "</div>"
      ],
      "text/plain": [
       "                   PRECIPITAÇÃO TOTAL, HORÁRIO (mm)  \\\n",
       "DATA (YYYY-MM-DD)                                     \n",
       "2006-10-01                                     0.18   \n",
       "2006-10-08                                     0.06   \n",
       "2006-10-15                                     0.11   \n",
       "2006-10-22                                     0.07   \n",
       "2006-10-29                                     0.00   \n",
       "\n",
       "                   PRESSAO ATMOSFERICA AO NIVEL DA ESTACAO, HORARIA (mB)  \\\n",
       "DATA (YYYY-MM-DD)                                                          \n",
       "2006-10-01                                                    916.47       \n",
       "2006-10-08                                                    911.53       \n",
       "2006-10-15                                                    911.87       \n",
       "2006-10-22                                                    913.04       \n",
       "2006-10-29                                                    912.23       \n",
       "\n",
       "                   PRESSÃO ATMOSFERICA MAX.NA HORA ANT. (AUT) (mB)  \\\n",
       "DATA (YYYY-MM-DD)                                                    \n",
       "2006-10-01                                                  916.71   \n",
       "2006-10-08                                                  911.82   \n",
       "2006-10-15                                                  912.15   \n",
       "2006-10-22                                                  913.29   \n",
       "2006-10-29                                                  912.51   \n",
       "\n",
       "                   PRESSÃO ATMOSFERICA MIN. NA HORA ANT. (AUT) (mB)  \\\n",
       "DATA (YYYY-MM-DD)                                                     \n",
       "2006-10-01                                                   916.26   \n",
       "2006-10-08                                                   911.28   \n",
       "2006-10-15                                                   911.65   \n",
       "2006-10-22                                                   912.82   \n",
       "2006-10-29                                                   912.01   \n",
       "\n",
       "                   RADIACAO GLOBAL (KJ/m²)  \\\n",
       "DATA (YYYY-MM-DD)                            \n",
       "2006-10-01                          981.89   \n",
       "2006-10-08                         1072.84   \n",
       "2006-10-15                         1091.36   \n",
       "2006-10-22                          967.55   \n",
       "2006-10-29                         1428.66   \n",
       "\n",
       "                   TEMPERATURA DO AR - BULBO SECO, HORARIA (°C)  \\\n",
       "DATA (YYYY-MM-DD)                                                 \n",
       "2006-10-01                                                13.98   \n",
       "2006-10-08                                                18.04   \n",
       "2006-10-15                                                18.68   \n",
       "2006-10-22                                                15.70   \n",
       "2006-10-29                                                18.79   \n",
       "\n",
       "                   TEMPERATURA DO PONTO DE ORVALHO (°C)  \\\n",
       "DATA (YYYY-MM-DD)                                         \n",
       "2006-10-01                                        10.66   \n",
       "2006-10-08                                        14.20   \n",
       "2006-10-15                                        14.81   \n",
       "2006-10-22                                        12.25   \n",
       "2006-10-29                                        12.67   \n",
       "\n",
       "                   TEMPERATURA MÁXIMA NA HORA ANT. (AUT) (°C)  \\\n",
       "DATA (YYYY-MM-DD)                                               \n",
       "2006-10-01                                              14.32   \n",
       "2006-10-08                                              18.60   \n",
       "2006-10-15                                              19.15   \n",
       "2006-10-22                                              16.14   \n",
       "2006-10-29                                              19.46   \n",
       "\n",
       "                   TEMPERATURA MÍNIMA NA HORA ANT. (AUT) (°C)  \\\n",
       "DATA (YYYY-MM-DD)                                               \n",
       "2006-10-01                                              13.63   \n",
       "2006-10-08                                              17.58   \n",
       "2006-10-15                                              18.18   \n",
       "2006-10-22                                              15.27   \n",
       "2006-10-29                                              18.12   \n",
       "\n",
       "                   TEMPERATURA ORVALHO MAX. NA HORA ANT. (AUT) (°C)  \\\n",
       "DATA (YYYY-MM-DD)                                                     \n",
       "2006-10-01                                                    10.97   \n",
       "2006-10-08                                                    14.61   \n",
       "2006-10-15                                                    15.22   \n",
       "2006-10-22                                                    12.64   \n",
       "2006-10-29                                                    13.19   \n",
       "\n",
       "                   TEMPERATURA ORVALHO MIN. NA HORA ANT. (AUT) (°C)  \\\n",
       "DATA (YYYY-MM-DD)                                                     \n",
       "2006-10-01                                                    10.32   \n",
       "2006-10-08                                                    13.82   \n",
       "2006-10-15                                                    14.42   \n",
       "2006-10-22                                                    11.94   \n",
       "2006-10-29                                                    12.19   \n",
       "\n",
       "                   UMIDADE REL. MAX. NA HORA ANT. (AUT) (%)  \\\n",
       "DATA (YYYY-MM-DD)                                             \n",
       "2006-10-01                                            83.51   \n",
       "2006-10-08                                            81.88   \n",
       "2006-10-15                                            82.27   \n",
       "2006-10-22                                            83.25   \n",
       "2006-10-29                                            73.39   \n",
       "\n",
       "                   UMIDADE REL. MIN. NA HORA ANT. (AUT) (%)  \\\n",
       "DATA (YYYY-MM-DD)                                             \n",
       "2006-10-01                                            79.79   \n",
       "2006-10-08                                            76.85   \n",
       "2006-10-15                                            77.60   \n",
       "2006-10-22                                            78.95   \n",
       "2006-10-29                                            67.32   \n",
       "\n",
       "                   UMIDADE RELATIVA DO AR, HORARIA (%)  \\\n",
       "DATA (YYYY-MM-DD)                                        \n",
       "2006-10-01                                       81.73   \n",
       "2006-10-08                                       79.47   \n",
       "2006-10-15                                       79.88   \n",
       "2006-10-22                                       81.06   \n",
       "2006-10-29                                       70.42   \n",
       "\n",
       "                   VENTO, DIREÇÃO HORARIA (gr) (° (gr))  \\\n",
       "DATA (YYYY-MM-DD)                                         \n",
       "2006-10-01                                       112.24   \n",
       "2006-10-08                                       132.42   \n",
       "2006-10-15                                       103.19   \n",
       "2006-10-22                                       105.03   \n",
       "2006-10-29                                       123.96   \n",
       "\n",
       "                   VENTO, RAJADA MAXIMA (m/s)  \\\n",
       "DATA (YYYY-MM-DD)                               \n",
       "2006-10-01                               6.05   \n",
       "2006-10-08                               5.35   \n",
       "2006-10-15                               5.22   \n",
       "2006-10-22                               5.87   \n",
       "2006-10-29                               6.02   \n",
       "\n",
       "                   VENTO, VELOCIDADE HORARIA (m/s)                    CIDADE  \\\n",
       "DATA (YYYY-MM-DD)                                                              \n",
       "2006-10-01                                    2.77  CURITIBA, Parana, Brazil   \n",
       "2006-10-08                                    2.33  CURITIBA, Parana, Brazil   \n",
       "2006-10-15                                    2.36  CURITIBA, Parana, Brazil   \n",
       "2006-10-22                                    2.73  CURITIBA, Parana, Brazil   \n",
       "2006-10-29                                    2.73  CURITIBA, Parana, Brazil   \n",
       "\n",
       "                    LATITUDE  LONGITUDE  \n",
       "DATA (YYYY-MM-DD)                        \n",
       "2006-10-01        -25.429596 -49.271272  \n",
       "2006-10-08        -25.429596 -49.271272  \n",
       "2006-10-15        -25.429596 -49.271272  \n",
       "2006-10-22        -25.429596 -49.271272  \n",
       "2006-10-29        -25.429596 -49.271272  "
      ]
     },
     "execution_count": 32,
     "metadata": {},
     "output_type": "execute_result"
    }
   ],
   "source": [
    "df_lat_long.head()"
   ]
  },
  {
   "cell_type": "code",
   "execution_count": 33,
   "metadata": {},
   "outputs": [
    {
     "data": {
      "text/plain": [
       "(1458, 20)"
      ]
     },
     "execution_count": 33,
     "metadata": {},
     "output_type": "execute_result"
    }
   ],
   "source": [
    "df_lat_long.shape"
   ]
  },
  {
   "cell_type": "code",
   "execution_count": 34,
   "metadata": {},
   "outputs": [],
   "source": [
    "df_lat_long.to_csv(f'data/dados_hist_clima_concatenados/INMET_S_PR_MEDIA_OUTUBRO_01-01-2006_A_30-11-2021.CSV') \n",
    "# Este dataset será utilizado para plotar variogramas no arquivo '03-Variogramas.ipynb'\n",
    "# Gerado com médias para o mês de Outubro. Caso precise mudar, alterar essas configurações na função"
   ]
  },
  {
   "cell_type": "code",
   "execution_count": null,
   "metadata": {},
   "outputs": [],
   "source": []
  }
 ],
 "metadata": {
  "interpreter": {
   "hash": "8d97a3dbca231d9020d4cca2fd426dfd394f300c675eea7ed921aca4ffa7b18a"
  },
  "kernelspec": {
   "display_name": "Python 3.8.2 64-bit ('base': conda)",
   "language": "python",
   "name": "python3"
  },
  "language_info": {
   "codemirror_mode": {
    "name": "ipython",
    "version": 3
   },
   "file_extension": ".py",
   "mimetype": "text/x-python",
   "name": "python",
   "nbconvert_exporter": "python",
   "pygments_lexer": "ipython3",
   "version": "3.8.2"
  },
  "orig_nbformat": 4
 },
 "nbformat": 4,
 "nbformat_minor": 2
}
